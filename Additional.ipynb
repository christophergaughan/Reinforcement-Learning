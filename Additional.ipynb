{
 "cells": [
  {
   "cell_type": "markdown",
   "metadata": {},
   "source": [
    "## Additional Matrials"
   ]
  },
  {
   "cell_type": "code",
   "execution_count": null,
   "metadata": {
    "deletable": false,
    "editable": false
   },
   "outputs": [],
   "source": [
    "from IPython.lib.display import YouTubeVideo"
   ]
  },
  {
   "cell_type": "markdown",
   "metadata": {
    "deletable": false,
    "editable": false,
    "run_control": {
     "frozen": true
    }
   },
   "source": [
    "### Posterior Sampling (Thompson Sampling)"
   ]
  },
  {
   "cell_type": "code",
   "execution_count": null,
   "metadata": {
    "deletable": false,
    "editable": false
   },
   "outputs": [],
   "source": [
    "YouTubeVideo('H2OWTxdauqA', start=128)"
   ]
  },
  {
   "cell_type": "code",
   "execution_count": null,
   "metadata": {
    "deletable": false,
    "editable": false
   },
   "outputs": [],
   "source": [
    "YouTubeVideo('uGUAUkmqQtk', start=730)"
   ]
  },
  {
   "cell_type": "markdown",
   "metadata": {
    "deletable": false,
    "editable": false,
    "run_control": {
     "frozen": true
    }
   },
   "source": [
    "---"
   ]
  },
  {
   "cell_type": "markdown",
   "metadata": {
    "deletable": false,
    "editable": false,
    "run_control": {
     "frozen": true
    }
   },
   "source": [
    "1. [Andrej Karpathy's Blog](http://karpathy.github.io/)\n",
    "\n",
    "2. [ApproxiPong](https://jonathanfiat.github.io/ApproxiPong/)\n",
    "\n",
    "3. [Going Deeper Into Reinforcement Learning: Fundamentals of Policy Gradients]( https://danieltakeshi.github.io/2017/03/28/going-deeper-into-reinforcement-learning-fundamentals-of-policy-gradients/)\n",
    "\n",
    "4. An excellent explanation on, [Why does the policy gradient method have high variance](https://qr.ae/pNfEpt)\n",
    "\n",
    "5. [Thompson Sampling for Multi-Armed Bandits](https://towardsdatascience.com/thompson-sampling-fc28817eacb8)\n",
    "\n",
    "6. DDPG\n",
    "  - [Deep Deterministic Policy Gradients Explained](https://towardsdatascience.com/deep-deterministic-policy-gradients-explained-2d94655a9b7b)\n",
    "  - [OpenAI DDPG](https://spinningup.openai.com/en/latest/algorithms/ddpg.html)\n",
    "\n",
    "7. Actor Critic Methods\n",
    "  - [minA2C](https://towardsdatascience.com/advantage-actor-critic-tutorial-mina2c-7a3249962fc8)\n",
    "  - [Difference between Actor-Critic and Advantage Actor Critic](https://ai.stackexchange.com/a/7425)\n",
    "  - [Advantage Actor-Critic methods](https://julien-vitay.net/deeprl/ActorCritic.html)\n",
    "  - [A3C and A2C](https://danieltakeshi.github.io/2018/06/28/a2c-a3c/)\n",
    "  - [A2C implementation](https://medium.com/deeplearningmadeeasy/advantage-actor-critic-a2c-implementation-944e98616b)\n",
    "  - [Soft Actor-Critic Demystified](https://towardsdatascience.com/soft-actor-critic-demystified-b8427df61665)\n",
    "  - [On why reinforce with baseline is not an actor critic algorithm](https://stats.stackexchange.com/q/340987)\n",
    "\n",
    "8. [Hierarchical Reinforcement Learning with the MAXQ Value Function Decomposition](https://arxiv.org/pdf/cs/9905014.pdf)\n",
    "\n",
    "9. [Neural Fitted Q Iteration - First Experiences with a Data Efficient Neural Reinforcement Learning Method](http://ml.informatik.uni-freiburg.de/former/_media/publications/rieecml05.pdf)\n",
    "\n",
    "10. [Entropy Regularization in Reinforcement Learning](https://towardsdatascience.com/entropy-regularization-in-reinforcement-learning-a6fa6d7598df)\n",
    "\n",
    "11. [The 32 Implementation Details of Proximal Policy Optimization (PPO) Algorithm](https://costa.sh/blog-the-32-implementation-details-of-ppo.html)\n",
    "\n",
    "12. [Reinforcement learning with policy gradients in pure Python](https://www.janisklaise.com/post/rl-policy-gradients/)"
   ]
  }
 ],
 "metadata": {
  "kernelspec": {
   "display_name": "Python 3",
   "language": "python",
   "name": "python3"
  },
  "language_info": {
   "codemirror_mode": {
    "name": "ipython",
    "version": 3
   },
   "file_extension": ".py",
   "mimetype": "text/x-python",
   "name": "python",
   "nbconvert_exporter": "python",
   "pygments_lexer": "ipython3",
   "version": "3.7.6"
  }
 },
 "nbformat": 4,
 "nbformat_minor": 4
}
